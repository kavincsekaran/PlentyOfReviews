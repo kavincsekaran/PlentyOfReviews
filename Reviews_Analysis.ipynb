{
 "cells": [
  {
   "cell_type": "code",
   "execution_count": 26,
   "metadata": {
    "collapsed": true
   },
   "outputs": [],
   "source": [
    "import pandas as pd\n",
    "import re\n",
    "import string\n",
    "from nltk.tokenize import word_tokenize\n",
    "from nltk.corpus import stopwords\n",
    "from nltk.stem import PorterStemmer \n",
    "from sklearn.feature_extraction.text import TfidfVectorizer,CountVectorizer\n",
    "from sklearn.decomposition import NMF, LatentDirichletAllocation\n",
    "from sklearn.metrics.pairwise import cosine_similarity\n",
    "import numpy as np\n",
    "import csv\n",
    "from pprint import pprint"
   ]
  },
  {
   "cell_type": "markdown",
   "metadata": {},
   "source": [
    "## Keep only aplhanumeric characters in reviews comments"
   ]
  },
  {
   "cell_type": "code",
   "execution_count": 27,
   "metadata": {
    "collapsed": true
   },
   "outputs": [],
   "source": [
    "def remove_nonalphanumeric(text):\n",
    "    return re.sub(\"[^a-zA-Z0-9]\",\" \", str(text)).lower()"
   ]
  },
  {
   "cell_type": "markdown",
   "metadata": {},
   "source": [
    "## Extracting the reviews from the dataset and filter out listings with less than 100 reviews"
   ]
  },
  {
   "cell_type": "code",
   "execution_count": 28,
   "metadata": {},
   "outputs": [],
   "source": [
    "reviews = pd.read_csv('C:/JK/Masters Studies/Spring 2018/Information Retrieval/Project/data/reviews.csv/reviews.csv')"
   ]
  },
  {
   "cell_type": "code",
   "execution_count": 29,
   "metadata": {},
   "outputs": [
    {
     "data": {
      "text/plain": [
       "290"
      ]
     },
     "execution_count": 29,
     "metadata": {},
     "output_type": "execute_result"
    }
   ],
   "source": [
    "reviews = reviews.groupby('listing_id').filter(lambda g: (g.listing_id.size >= 100))\n",
    "unique_listings = reviews.listing_id.unique()\n",
    "len(unique_listings)"
   ]
  },
  {
   "cell_type": "markdown",
   "metadata": {},
   "source": [
    "## Clean the Data by tokenizing and removing stop words."
   ]
  },
  {
   "cell_type": "code",
   "execution_count": 30,
   "metadata": {},
   "outputs": [],
   "source": [
    "reviews['comments_1'] = reviews['comments'].apply(remove_nonalphanumeric)\n",
    "reviews['tokenized_comments'] = reviews['comments_1'].apply(word_tokenize)\n",
    "stopset = stopwords.words('english') + list(string.punctuation)\n",
    "reviews['stop_comments'] = reviews['tokenized_comments'].apply(lambda x: [item for item in x if item not in stopset])\n",
    "def func(row):\n",
    "    return \" \".join(row)\n",
    "reviews['data'] = reviews['stop_comments'].apply(lambda x: func(x))"
   ]
  },
  {
   "cell_type": "markdown",
   "metadata": {},
   "source": [
    "## Get top K diverse reviews by performing LDA and calculating the Rao's Diversity coefficient for each review and pick the K reviews with the highest score"
   ]
  },
  {
   "cell_type": "code",
   "execution_count": 37,
   "metadata": {
    "collapsed": true
   },
   "outputs": [],
   "source": [
    "def get_best_reviews_listing(listing_id, num_of_LDA_topics=5, K_reviews=5):\n",
    "    listing_reviews=reviews[reviews['listing_id']==listing_id]\n",
    "    tf_vectorizer = CountVectorizer(max_df=0.95, min_df=2, max_features=1000)\n",
    "    tf = tf_vectorizer.fit_transform(listing_reviews['data'])\n",
    "    tf_feature_names = tf_vectorizer.get_feature_names()\n",
    "    \n",
    "    #LDA\n",
    "    lda = LatentDirichletAllocation(n_topics= num_of_LDA_topics, learning_method='online',learning_offset=20., batch_size=16).fit(tf)\n",
    "    lda_W = lda.transform(tf)\n",
    "    lda_H = lda.components_\n",
    "    \n",
    "    #Rao's Diversity coefficient for each document d\n",
    "    #div(d)=T∑i=1T∑j=1 P(i|d)P(j|d)δ(i,j)\n",
    "    \n",
    "    doc_features=np.asarray(tf.todense())\n",
    "    \n",
    "    D_T=[]\n",
    "    for doc in doc_features:\n",
    "        nd=doc.sum()\n",
    "        nd_j=lda_H[:, np.nonzero(doc)].sum(axis=2)\n",
    "        D_T.append(nd_j/nd)\n",
    "    D_T=np.hstack(D_T).T\n",
    "    \n",
    "    #Pairwise cosine similarity between each topic\n",
    "    sim_i_j=cosine_similarity(lda_H, lda_H)\n",
    "    \n",
    "    #Both of dau of formats produce similar results.\n",
    "    \n",
    "    #dau_i_j=np.divide(np.ones_like(sim_i_j),sim_i_j)\n",
    "    dau_i_j=np.subtract(np.ones_like(sim_i_j),sim_i_j)\n",
    "    \n",
    "    \n",
    "    rao_diversity=np.nan_to_num(np.diagonal(np.matmul(np.matmul(D_T, dau_i_j), D_T.T)))\n",
    "    rao_diversity=rao_diversity[np.nonzero(rao_diversity)]\n",
    "    \n",
    "    div_ind=np.argsort(-rao_diversity)[:K_reviews]\n",
    "    \n",
    "    docs=list(listing_reviews['comments'])\n",
    "    #pprint([(cnt, docs[i]) for cnt, i in enumerate(div_ind)])\n",
    "    top_K_reviews=[docs[i] for i in div_ind]\n",
    "    \n",
    "    return top_K_reviews"
   ]
  },
  {
   "cell_type": "markdown",
   "metadata": {},
   "source": [
    "## To try only one listing, get a random listing id with more than 100 reviews."
   ]
  },
  {
   "cell_type": "code",
   "execution_count": 38,
   "metadata": {
    "scrolled": true
   },
   "outputs": [],
   "source": [
    "selected_listing=np.random.choice(reviews.groupby('listing_id').filter(lambda g: (g.listing_id.size >= 100))[\"listing_id\"])\n",
    "# get_topics_listing(selected_listing, 10, 5)"
   ]
  },
  {
   "cell_type": "code",
   "execution_count": 39,
   "metadata": {
    "collapsed": true
   },
   "outputs": [],
   "source": [
    "#listings = pd.read_csv('/home/kavin/Silo/CollegeWork/InfoRet/Project/reviews.csv')"
   ]
  },
  {
   "cell_type": "code",
   "execution_count": 42,
   "metadata": {},
   "outputs": [
    {
     "name": "stderr",
     "output_type": "stream",
     "text": [
      "C:\\Users\\JanviKay\\Anaconda3\\lib\\site-packages\\ipykernel\\__main__.py:21: RuntimeWarning: invalid value encountered in true_divide\n"
     ]
    }
   ],
   "source": [
    "with open(\"top_k_reviews_by_listing.csv\",'w',encoding='utf-8') as resultFile:\n",
    "    csv_writer = csv.writer(resultFile, dialect='excel', delimiter=',',lineterminator='\\n')\n",
    "    for listing_id in unique_listings:\n",
    "        top_reviews = get_best_reviews_listing(listing_id)\n",
    "        csv_writer.writerow([listing_id]+top_reviews)"
   ]
  },
  {
   "cell_type": "markdown",
   "metadata": {},
   "source": [
    "## Fetch the most dissimilar reviews based on topics generated"
   ]
  },
  {
   "cell_type": "code",
   "execution_count": 43,
   "metadata": {},
   "outputs": [
    {
     "data": {
      "text/html": [
       "<div>\n",
       "<style>\n",
       "    .dataframe thead tr:only-child th {\n",
       "        text-align: right;\n",
       "    }\n",
       "\n",
       "    .dataframe thead th {\n",
       "        text-align: left;\n",
       "    }\n",
       "\n",
       "    .dataframe tbody tr th {\n",
       "        vertical-align: top;\n",
       "    }\n",
       "</style>\n",
       "<table border=\"1\" class=\"dataframe\">\n",
       "  <thead>\n",
       "    <tr style=\"text-align: right;\">\n",
       "      <th></th>\n",
       "      <th>Listing Id</th>\n",
       "      <th>Review 1</th>\n",
       "      <th>Review 2</th>\n",
       "      <th>Review 3</th>\n",
       "      <th>Review 4</th>\n",
       "      <th>Review 5</th>\n",
       "    </tr>\n",
       "  </thead>\n",
       "  <tbody>\n",
       "    <tr>\n",
       "      <th>0</th>\n",
       "      <td>7441144</td>\n",
       "      <td>It's a great quiet stay.</td>\n",
       "      <td>The host has been very accommodating and helpf...</td>\n",
       "      <td>The host was extremely welcoming and obliging....</td>\n",
       "      <td>Nice and easy stay - with good accommodations ...</td>\n",
       "      <td>Pretty nice, quiet, cozy place to stay. Toilet...</td>\n",
       "    </tr>\n",
       "    <tr>\n",
       "      <th>1</th>\n",
       "      <td>12233830</td>\n",
       "      <td>This was such a great place to stay! We came w...</td>\n",
       "      <td>Bonne communication, lit confortable, appartem...</td>\n",
       "      <td>We had a great time in Boston. There was every...</td>\n",
       "      <td>Estee could not have been more helpful and the...</td>\n",
       "      <td>Estee's place is a lovely space for a family g...</td>\n",
       "    </tr>\n",
       "    <tr>\n",
       "      <th>2</th>\n",
       "      <td>14586440</td>\n",
       "      <td>Matthew's place was amazing in every aspect. L...</td>\n",
       "      <td>Great location and cute apartment.</td>\n",
       "      <td>Matthew was a great host and the location was ...</td>\n",
       "      <td>The location is great!</td>\n",
       "      <td>Great location! Walking distance from many tou...</td>\n",
       "    </tr>\n",
       "    <tr>\n",
       "      <th>3</th>\n",
       "      <td>15444930</td>\n",
       "      <td>Great place and cheap.</td>\n",
       "      <td>Very practical check in with punch code. Clean...</td>\n",
       "      <td>I stayed here for a work trip over a few days,...</td>\n",
       "      <td>Sonder's Place was fantastic. Great location a...</td>\n",
       "      <td>Great apartment at awesome location. Apartment...</td>\n",
       "    </tr>\n",
       "    <tr>\n",
       "      <th>4</th>\n",
       "      <td>1596470</td>\n",
       "      <td>Das Townhouse von Michael ist fantastisch!\\nPe...</td>\n",
       "      <td>Michael's place is beautiful and he is a great...</td>\n",
       "      <td>Outstanding host, place, and location.</td>\n",
       "      <td>Great Place - Deff recommended!</td>\n",
       "      <td>It was a great place, Michael was very helpful...</td>\n",
       "    </tr>\n",
       "  </tbody>\n",
       "</table>\n",
       "</div>"
      ],
      "text/plain": [
       "   Listing Id                                           Review 1  \\\n",
       "0     7441144                           It's a great quiet stay.   \n",
       "1    12233830  This was such a great place to stay! We came w...   \n",
       "2    14586440  Matthew's place was amazing in every aspect. L...   \n",
       "3    15444930                             Great place and cheap.   \n",
       "4     1596470  Das Townhouse von Michael ist fantastisch!\\nPe...   \n",
       "\n",
       "                                            Review 2  \\\n",
       "0  The host has been very accommodating and helpf...   \n",
       "1  Bonne communication, lit confortable, appartem...   \n",
       "2                Great location and cute apartment.    \n",
       "3  Very practical check in with punch code. Clean...   \n",
       "4  Michael's place is beautiful and he is a great...   \n",
       "\n",
       "                                            Review 3  \\\n",
       "0  The host was extremely welcoming and obliging....   \n",
       "1  We had a great time in Boston. There was every...   \n",
       "2  Matthew was a great host and the location was ...   \n",
       "3  I stayed here for a work trip over a few days,...   \n",
       "4            Outstanding host, place, and location.    \n",
       "\n",
       "                                            Review 4  \\\n",
       "0  Nice and easy stay - with good accommodations ...   \n",
       "1  Estee could not have been more helpful and the...   \n",
       "2                             The location is great!   \n",
       "3  Sonder's Place was fantastic. Great location a...   \n",
       "4                   Great Place - Deff recommended!    \n",
       "\n",
       "                                            Review 5  \n",
       "0  Pretty nice, quiet, cozy place to stay. Toilet...  \n",
       "1  Estee's place is a lovely space for a family g...  \n",
       "2  Great location! Walking distance from many tou...  \n",
       "3  Great apartment at awesome location. Apartment...  \n",
       "4  It was a great place, Michael was very helpful...  "
      ]
     },
     "execution_count": 43,
     "metadata": {},
     "output_type": "execute_result"
    }
   ],
   "source": [
    "reviews_topics = pd.read_csv('C:/JK/Masters Studies/Spring 2018/Information Retrieval/Project/data/top_k_reviews_by_listing.csv')\n",
    "reviews_topics.head()"
   ]
  },
  {
   "cell_type": "markdown",
   "metadata": {},
   "source": [
    "## Removing newline"
   ]
  },
  {
   "cell_type": "code",
   "execution_count": 44,
   "metadata": {},
   "outputs": [
    {
     "data": {
      "text/html": [
       "<div>\n",
       "<style>\n",
       "    .dataframe thead tr:only-child th {\n",
       "        text-align: right;\n",
       "    }\n",
       "\n",
       "    .dataframe thead th {\n",
       "        text-align: left;\n",
       "    }\n",
       "\n",
       "    .dataframe tbody tr th {\n",
       "        vertical-align: top;\n",
       "    }\n",
       "</style>\n",
       "<table border=\"1\" class=\"dataframe\">\n",
       "  <thead>\n",
       "    <tr style=\"text-align: right;\">\n",
       "      <th></th>\n",
       "      <th>Listing Id</th>\n",
       "      <th>Review 1</th>\n",
       "      <th>Review 2</th>\n",
       "      <th>Review 3</th>\n",
       "      <th>Review 4</th>\n",
       "      <th>Review 5</th>\n",
       "    </tr>\n",
       "  </thead>\n",
       "  <tbody>\n",
       "    <tr>\n",
       "      <th>0</th>\n",
       "      <td>7441144</td>\n",
       "      <td>It's a great quiet stay.</td>\n",
       "      <td>The host has been very accommodating and helpf...</td>\n",
       "      <td>The host was extremely welcoming and obliging....</td>\n",
       "      <td>Nice and easy stay - with good accommodations ...</td>\n",
       "      <td>Pretty nice, quiet, cozy place to stay. Toilet...</td>\n",
       "    </tr>\n",
       "    <tr>\n",
       "      <th>1</th>\n",
       "      <td>12233830</td>\n",
       "      <td>This was such a great place to stay! We came w...</td>\n",
       "      <td>Bonne communication, lit confortable, appartem...</td>\n",
       "      <td>We had a great time in Boston. There was every...</td>\n",
       "      <td>Estee could not have been more helpful and the...</td>\n",
       "      <td>Estee's place is a lovely space for a family g...</td>\n",
       "    </tr>\n",
       "    <tr>\n",
       "      <th>2</th>\n",
       "      <td>14586440</td>\n",
       "      <td>Matthew's place was amazing in every aspect. L...</td>\n",
       "      <td>Great location and cute apartment.</td>\n",
       "      <td>Matthew was a great host and the location was ...</td>\n",
       "      <td>The location is great!</td>\n",
       "      <td>Great location! Walking distance from many tou...</td>\n",
       "    </tr>\n",
       "    <tr>\n",
       "      <th>3</th>\n",
       "      <td>15444930</td>\n",
       "      <td>Great place and cheap.</td>\n",
       "      <td>Very practical check in with punch code. Clean...</td>\n",
       "      <td>I stayed here for a work trip over a few days,...</td>\n",
       "      <td>Sonder's Place was fantastic. Great location a...</td>\n",
       "      <td>Great apartment at awesome location. Apartment...</td>\n",
       "    </tr>\n",
       "    <tr>\n",
       "      <th>4</th>\n",
       "      <td>1596470</td>\n",
       "      <td>Das Townhouse von Michael ist fantastisch! Per...</td>\n",
       "      <td>Michael's place is beautiful and he is a great...</td>\n",
       "      <td>Outstanding host, place, and location.</td>\n",
       "      <td>Great Place - Deff recommended!</td>\n",
       "      <td>It was a great place, Michael was very helpful...</td>\n",
       "    </tr>\n",
       "  </tbody>\n",
       "</table>\n",
       "</div>"
      ],
      "text/plain": [
       "   Listing Id                                           Review 1  \\\n",
       "0     7441144                           It's a great quiet stay.   \n",
       "1    12233830  This was such a great place to stay! We came w...   \n",
       "2    14586440  Matthew's place was amazing in every aspect. L...   \n",
       "3    15444930                             Great place and cheap.   \n",
       "4     1596470  Das Townhouse von Michael ist fantastisch! Per...   \n",
       "\n",
       "                                            Review 2  \\\n",
       "0  The host has been very accommodating and helpf...   \n",
       "1  Bonne communication, lit confortable, appartem...   \n",
       "2                Great location and cute apartment.    \n",
       "3  Very practical check in with punch code. Clean...   \n",
       "4  Michael's place is beautiful and he is a great...   \n",
       "\n",
       "                                            Review 3  \\\n",
       "0  The host was extremely welcoming and obliging....   \n",
       "1  We had a great time in Boston. There was every...   \n",
       "2  Matthew was a great host and the location was ...   \n",
       "3  I stayed here for a work trip over a few days,...   \n",
       "4            Outstanding host, place, and location.    \n",
       "\n",
       "                                            Review 4  \\\n",
       "0  Nice and easy stay - with good accommodations ...   \n",
       "1  Estee could not have been more helpful and the...   \n",
       "2                             The location is great!   \n",
       "3  Sonder's Place was fantastic. Great location a...   \n",
       "4                   Great Place - Deff recommended!    \n",
       "\n",
       "                                            Review 5  \n",
       "0  Pretty nice, quiet, cozy place to stay. Toilet...  \n",
       "1  Estee's place is a lovely space for a family g...  \n",
       "2  Great location! Walking distance from many tou...  \n",
       "3  Great apartment at awesome location. Apartment...  \n",
       "4  It was a great place, Michael was very helpful...  "
      ]
     },
     "execution_count": 44,
     "metadata": {},
     "output_type": "execute_result"
    }
   ],
   "source": [
    "reviews_topics = reviews_topics.replace(r'\\n', ' ', regex=True)\n",
    "reviews_topics.head()"
   ]
  },
  {
   "cell_type": "markdown",
   "metadata": {},
   "source": [
    "## Fetching the listings data containing name, neighbourhood and other info. per listing"
   ]
  },
  {
   "cell_type": "code",
   "execution_count": 45,
   "metadata": {},
   "outputs": [],
   "source": [
    "listings = pd.read_csv('C:/JK/Masters Studies/Spring 2018/Information Retrieval/Project/data/listings.csv/listings.csv')\n",
    "# listings.head()"
   ]
  },
  {
   "cell_type": "code",
   "execution_count": 46,
   "metadata": {},
   "outputs": [],
   "source": [
    "## Creating new df having only the listings with >=100 reviews and only certain required columns : name, neighbourhood, room type, url\n",
    "\n",
    "result_list = []\n",
    "for each_unique in unique_listings:\n",
    "    listings_1 = listings[listings['id'] == each_unique]\n",
    "    listing_url = \"https://www.airbnb.com/rooms/\"+str(each_unique)+\"?location=Boston%2C%20MA\"\n",
    "    result = (listings_1['id'].item(),listings_1['name'].item(),listings_1['neighbourhood_cleansed'].item(),listings_1['room_type'].item(),listings_1['picture_url'].item(),listing_url)\n",
    "    result_list.append(result)\n",
    "listings_cropped = pd.DataFrame(result_list,columns=['Listing Id','name','neighbourhood','room_type','picture_url','listing_url'])"
   ]
  },
  {
   "cell_type": "markdown",
   "metadata": {},
   "source": [
    "## Combine the listings and reviews"
   ]
  },
  {
   "cell_type": "code",
   "execution_count": 47,
   "metadata": {
    "collapsed": true
   },
   "outputs": [],
   "source": [
    "listings_topics = pd.merge(reviews_topics,listings_cropped)"
   ]
  },
  {
   "cell_type": "code",
   "execution_count": 48,
   "metadata": {
    "collapsed": true
   },
   "outputs": [],
   "source": [
    "## Keep only alphanumeric text and punctuation marks in reviews and name\n",
    "listings_topics['Review 1']=listings_topics['Review 1'].str.replace(\"[^ABCDEFGHIJKLMNOPQRSTUVWXYZ1234567890abcdefghijklmnopqrstuvwxyz'-.;:!? ]\", \"\")\n",
    "listings_topics['Review 2']=listings_topics['Review 2'].str.replace(\"[^ABCDEFGHIJKLMNOPQRSTUVWXYZ1234567890abcdefghijklmnopqrstuvwxyz'-.;:!? ]\", \"\")\n",
    "listings_topics['Review 3']=listings_topics['Review 3'].str.replace(\"[^ABCDEFGHIJKLMNOPQRSTUVWXYZ1234567890abcdefghijklmnopqrstuvwxyz'-.;:!? ]\", \"\")\n",
    "listings_topics['Review 4']=listings_topics['Review 4'].str.replace(\"[^ABCDEFGHIJKLMNOPQRSTUVWXYZ1234567890abcdefghijklmnopqrstuvwxyz'-.;:!? ]\", \"\")\n",
    "listings_topics['Review 5']=listings_topics['Review 5'].str.replace(\"[^ABCDEFGHIJKLMNOPQRSTUVWXYZ1234567890abcdefghijklmnopqrstuvwxyz'-.;:!? ]\", \"\")\n",
    "listings_topics['name']=listings_topics['name'].str.replace(\"[^ABCDEFGHIJKLMNOPQRSTUVWXYZ1234567890abcdefghijklmnopqrstuvwxyz'-.;:!? ]\", \"\")"
   ]
  },
  {
   "cell_type": "markdown",
   "metadata": {},
   "source": [
    "## Creating the csv & json to be parsed to the website"
   ]
  },
  {
   "cell_type": "code",
   "execution_count": 49,
   "metadata": {
    "collapsed": true
   },
   "outputs": [],
   "source": [
    "listings_topics.to_csv(\"listings_topics_edit_execution.txt\",columns=['Listing Id','Review 1','Review 2','Review 3','Review 4','Review 5','name','neighbourhood','room_type','picture_url','listing_url'],sep='|',index=False)\n",
    "listings_topics_json_df= listings_topics.set_index('Listing Id')\n",
    "listings_topics_json_df.reset_index().to_json('listing_topics_1.json',orient='records')"
   ]
  },
  {
   "cell_type": "code",
   "execution_count": null,
   "metadata": {
    "collapsed": true
   },
   "outputs": [],
   "source": []
  }
 ],
 "metadata": {
  "kernelspec": {
   "display_name": "Python [default]",
   "language": "python",
   "name": "python3"
  },
  "language_info": {
   "codemirror_mode": {
    "name": "ipython",
    "version": 3
   },
   "file_extension": ".py",
   "mimetype": "text/x-python",
   "name": "python",
   "nbconvert_exporter": "python",
   "pygments_lexer": "ipython3",
   "version": "3.6.4"
  }
 },
 "nbformat": 4,
 "nbformat_minor": 2
}
